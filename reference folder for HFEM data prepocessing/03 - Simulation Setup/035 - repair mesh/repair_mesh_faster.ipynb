{
 "cells": [
  {
   "cell_type": "code",
   "execution_count": 1,
   "metadata": {},
   "outputs": [
    {
     "name": "stdout",
     "output_type": "stream",
     "text": [
      "you loaded the CT visualizer window v20.11.24\n"
     ]
    }
   ],
   "source": [
    "\n",
    "import SimpleITK as sitk\n",
    "import tkinter as tk\n",
    "from tkinter import filedialog\n",
    "import numpy as np\n",
    "import ipywidgets\n",
    "import matplotlib.pyplot as plt\n",
    "from PIL import Image\n",
    "import scipy\n",
    "import os\n",
    "import shutil\n",
    "import pandas as pd\n",
    "from scipy import signal\n",
    "\n",
    "import sys\n",
    "# Add the directory to the sys.path\n",
    "sys.path.append('D:/COFO - HP/03 - Github/dvpt-at-EMPA/HappyBisons/image analysis')\n",
    "# Now you can import modules from that directory\n",
    "import tools.CT_modification_functions as CT_modification_functions\n",
    "import tools.CT_visualization_functions as CT_visualization_functions\n",
    "import tools.CT_visualization_window as CT_visualization_window\n",
    "import tools.loading_bar as loadingbar\n",
    "%matplotlib qt\n",
    "\n",
    "CT_visualization_window.check_existence()"
   ]
  },
  {
   "cell_type": "code",
   "execution_count": 2,
   "metadata": {},
   "outputs": [],
   "source": [
    "# ======= set working directories and files ==========\n",
    "\n",
    "current_dir = os.getcwd()\n",
    "\n",
    "parent_dir = os.path.dirname(current_dir)\n",
    "\n",
    "\n",
    "input_file = parent_dir + \"/034 - material edit/inp_material-c2_f0p6_MaterialEdited.inp\"\n",
    "output_file = current_dir + \"/inp_material-c2_f0p6_MaterialEdited_remeshed.inp\""
   ]
  },
  {
   "cell_type": "markdown",
   "metadata": {},
   "source": [
    "====================================================================================================================================================================================\n",
    "========================================================================== detect flying elements ==================================================================================\n",
    "===================================================================================================================================================================================="
   ]
  },
  {
   "cell_type": "code",
   "execution_count": 3,
   "metadata": {},
   "outputs": [
    {
     "name": "stdout",
     "output_type": "stream",
     "text": [
      "2191239\n"
     ]
    }
   ],
   "source": [
    "# ======= read inp file ==========\n",
    "\n",
    "found_start = np.array([])\n",
    "found_end = np.array([])\n",
    "\n",
    "#open file\n",
    "with open(input_file) as file:\n",
    "    i=0\n",
    "    for line in file:\n",
    "        i += 1\n",
    "        #look for the start of the elements definition\n",
    "        if \"*Element\" in line:\n",
    "            found_start = np.append(found_start,i)\n",
    "        #look for the end of the elements definition\n",
    "        if \"*Elset\" in line:\n",
    "            found_end = np.append(found_end,i)\n",
    "\n",
    "#the start is the first line that has the word \"element\" in it\n",
    "starting_line = int(found_start[0])\n",
    "#the end is the first line, after the line that start the elements definition, that has the word \"elset\" in it\n",
    "ending_line = int(found_end[found_end>starting_line][0]-1)\n",
    "\n",
    "#create a panda dictionnary where each line gives an element's ID-number and the ID-number of the 4 nodes that compose it...\n",
    "#!!!!remember!!!!! If you use C3D10, there will be 10 nodes per element.. 4 corners and 6 edges. That is stupid to do.. Convert them to quadratic element after doing your island analysis, this will save you conputationnal cost...\n",
    "elements_list = pd.read_csv(input_file, header=None, names = [\"ElementNumber\",\"Node1\",\"Node2\",\"Node3\",\"Node4\"], skiprows=starting_line, nrows=ending_line-starting_line)   #dictionary of the nodes of each element\n",
    "print(elements_list.shape[0])\n"
   ]
  },
  {
   "cell_type": "code",
   "execution_count": 4,
   "metadata": {},
   "outputs": [
    {
     "name": "stdout",
     "output_type": "stream",
     "text": [
      "good\n"
     ]
    }
   ],
   "source": [
    "# create a seccond dictionnary that wil list for each node all the elements that it is connected to.\n",
    "#remember: if you forgot to set the element type to linear, then you use C3D10 elements: 10 nodes per element.. 4 corners and 6 edges.\n",
    "\n",
    "temp = pd.concat([elements_list[[\"ElementNumber\",'Node1']].rename(columns={\"Node1\": \"Node\"}),\n",
    "                  elements_list[[\"ElementNumber\",'Node2']].rename(columns={\"Node2\": \"Node\"}),\n",
    "                  elements_list[[\"ElementNumber\",'Node3']].rename(columns={\"Node3\": \"Node\"}),\n",
    "                  elements_list[[\"ElementNumber\",'Node4']].rename(columns={\"Node4\": \"Node\"})\n",
    "                  ])\n",
    "\n",
    "if temp['ElementNumber'].shape[0] != 4 * elements_list['ElementNumber'].shape[0]:\n",
    "    print('error')\n",
    "else:\n",
    "    print('good')\n",
    "\n",
    "node_list = temp.groupby('Node')['ElementNumber'].apply(list).reset_index()\n",
    "\n",
    "node_list['usage'] = node_list['ElementNumber'].apply(len)\n",
    "\n",
    "node_list = node_list.sort_values('usage')          #dictionary of the elements of each node\n"
   ]
  },
  {
   "cell_type": "code",
   "execution_count": 5,
   "metadata": {},
   "outputs": [
    {
     "name": "stdout",
     "output_type": "stream",
     "text": [
      "442844\n",
      "2191239\n"
     ]
    }
   ],
   "source": [
    "print(node_list.shape[0]) #manually check in the inp file\n",
    "#it should be 901685\n",
    "print(elements_list.shape[0]) #manually check in the inp file\n",
    "# it should be 4748068"
   ]
  },
  {
   "cell_type": "code",
   "execution_count": 6,
   "metadata": {},
   "outputs": [
    {
     "name": "stdout",
     "output_type": "stream",
     "text": [
      "100000\n",
      "200000\n",
      "300000\n",
      "400000\n",
      "500000\n",
      "600000\n",
      "700000\n",
      "800000\n",
      "900000\n",
      "1000000\n",
      "1100000\n",
      "1200000\n",
      "1300000\n",
      "1400000\n",
      "1500000\n",
      "1600000\n",
      "1700000\n",
      "1800000\n",
      "1900000\n",
      "2000000\n",
      "2100000\n"
     ]
    }
   ],
   "source": [
    "from collections import defaultdict\n",
    "\n",
    "node_to_elements = defaultdict(list) #default dict is like a dict, but that allows you to specify a default value type for keys that don’t yet exist in the dictionary. list inside give the default value to be an empty list \n",
    "for _, row in node_list.iterrows():\n",
    "    node_to_elements[row['Node']] = row['ElementNumber']\n",
    "\n",
    "element_to_nodes = defaultdict(list) #default dict is like a dict, but that allows you to specify a default value type for keys that don’t yet exist in the dictionary. list inside give the default value to be an empty list \n",
    "k=0\n",
    "for _, row in elements_list.iterrows():\n",
    "    k+=1\n",
    "    if k%100000==0:\n",
    "        print(k)\n",
    "    element_to_nodes[row['ElementNumber']] = [row['Node1'], row['Node2'], row['Node3'], row['Node4']]\n"
   ]
  },
  {
   "cell_type": "code",
   "execution_count": 7,
   "metadata": {},
   "outputs": [
    {
     "name": "stdout",
     "output_type": "stream",
     "text": [
      "62546 nodes are suspected, they will be actused if connected to less than 1000 other elements\n",
      "preprocessing variable, this should take around 2 minutes\n",
      "Progress: [####################################################################################################] 100%\n",
      "216 elements are in an island\n",
      "[ 179201  716805  716806  716807  716810  716811  716812  716813  716814\n",
      "  716815  708624  369680  699410  699411  716817  716820  177174  716822\n",
      "  716818  716821  716826  694309  369709  369711  369712  183364  524359\n",
      "  401509  139394  168073  188553  444587  254128  698545  698548  698549\n",
      "  698550  698551  698552  258241  239823  735440  364756  581873  515329\n",
      "  515330  692488  692489  143628  692496  279885  414052  369678  381320\n",
      "  414108  543146  676311  558552  481762  258546  281077  617979  255492\n",
      "  189968  482887  618064  482902  245363  699007  634503  245386  385676\n",
      "  738958  543374  275088  333459  245397  738967  738968  411315  145077\n",
      "  570080  164579  147174  652015  652016  652021  615166  496385  615171\n",
      "  615173  585482  634641  634646  490269  634655  634656  715552  715554\n",
      "  715555  715556  715557  715558  585511  715559  634657  715562  715563\n",
      "  715565  715566  715567  715568  715569  715570  715572  328500  715574\n",
      "  328503  715575  715576  715577  715578  715579  715580  715581  715582\n",
      "  715583  372540  715586  715588  715589  328518  715590  715591  715592\n",
      "  715594  715595  715598  715599  715600  715601  240466  715603  337748\n",
      "  508757  715604  715607  715605  715608  715610  715611  715609  302934\n",
      "  715606  715612  508768  715619  715620  715621  715623  715624  715625\n",
      "  715629  715630  715631  715632  715633  715634  715635  715636  715637\n",
      "  715638  715639  715640  715641  715643  715644  715645  715647  715648\n",
      "  715649  715650  700291  715652  715653  715655  715656  715657  715658\n",
      "  715659  715660  555916  715662  715663  715668  555925  715670  715671\n",
      "  418708  392088  715674  715672  715673  715677  715678  715675  715680\n",
      "  715681  555941  715688  715689  715690  226223 2165697  175051  589809]\n"
     ]
    }
   ],
   "source": [
    "#============================== detect disconnected islands ===================================\n",
    "# it's too long to check for every element if they are connected to every other..\n",
    "#Instead I first get the nodes that are connected to few elements : they are most likely of the edge of the model.. There is no need to start for nodes that are in the middle of the model.\n",
    "#Then I check if the are connected to \"enough\" elements to be \"kinda sure\" that they are not in an isolated element\n",
    "\n",
    "# This works in this case because it is very easy to check if I missed something: I the resulting simulation doesn't work, I must have missed an island xD\n",
    "from collections import defaultdict\n",
    "\n",
    "low_connected_nodes = node_list[node_list['usage'] < 11]    #now I have a dictonary with all the node that are in 11 or less elements\n",
    "connection_threshold = 1001  #limit at which a node is considered to not be in an island\n",
    "print(f\"{len(low_connected_nodes)} nodes are suspected, they will be actused if connected to less than {connection_threshold-1} other elements\")\n",
    "\n",
    "print(f\"preprocessing variable, this should take around 2 minutes\")\n",
    "# Preprocess node_list for quick lookups\n",
    "node_to_elements = defaultdict(list) #default dict is like a dict, but that allows you to specify a default value type for keys that don’t yet exist in the dictionary. list inside give the default value to be an empty list \n",
    "for _, row in node_list.iterrows():\n",
    "    node_to_elements[row['Node']] = row['ElementNumber']\n",
    "\n",
    "# Preprocess element_list for quick lookups\n",
    "element_to_nodes = defaultdict(list) #default dict is like a dict, but that allows you to specify a default value type for keys that don’t yet exist in the dictionary. list inside give the default value to be an empty list \n",
    "for _, row in elements_list.iterrows():\n",
    "    element_to_nodes[row['ElementNumber']] = [row['Node1'], row['Node2'], row['Node3'], row['Node4']]\n",
    "\n",
    "island_elements = set()\n",
    "progress = 0\n",
    "\n",
    "#look at all the nodes that you defined as \"suspect\"\n",
    "for node in low_connected_nodes['Node']:\n",
    "    #start by assuming that this node is NOT in an island\n",
    "    is_island = False\n",
    "\n",
    "    #measuring progress\n",
    "    loadingbar.main(progress, len(low_connected_nodes), bar_length=100)\n",
    "    progress = progress + 1 \n",
    "\n",
    "    # Get elements connected to the current node; transform it to a set for faster intersection check\n",
    "    connected_elements = set(node_to_elements[node])   #this is faster than looking in a panda daaframe for the line at which the node is the good number (direct access instead of iterative search)  \"node_list[node_list['Node'] == node]['ElementNumber']\"\n",
    "    \n",
    "    #initialize the list of elements to which you looked for it's neighbors\n",
    "    checked_elements = set()\n",
    "\n",
    "    #until you find XX elements connected to your node...\n",
    "    while len(connected_elements) < connection_threshold:\n",
    "        unchecked_elements = connected_elements - checked_elements \n",
    "        \n",
    "        #if there is no unchecked element\n",
    "        if not unchecked_elements: \n",
    "            island_elements.update(connected_elements)  #kinda like append but for lists, it can add several elements\n",
    "            is_island = True\n",
    "            break\n",
    "        \n",
    "        # Check one of the unchecked elements\n",
    "        element_to_check = unchecked_elements.pop()  #Remove a random item from the set\n",
    "\n",
    "        #add it to the list of checked elements\n",
    "        checked_elements.add(element_to_check)   #add only works for one element\n",
    "\n",
    "        # Get nodes connected to this element\n",
    "        element_to_check_nodes = element_to_nodes[element_to_check]\n",
    "\n",
    "        #setup the \"connection\": number of nodes of this element that are connected to another element\n",
    "        connections_per_element = 0\n",
    "        for node_of_element in element_to_check_nodes:\n",
    "            #if this node is connected to more than one element, then this element has one more connection\n",
    "            if len(node_to_elements[node_of_element]) > 1:\n",
    "                connections_per_element += 1\n",
    "\n",
    "        # if in total, this element has only 1 or 2 nodes that are connected to other elements, skip it: they are not really connected, since elements connected by only 2 nodes can still rotate \n",
    "        if connections_per_element < 3:\n",
    "            continue\n",
    "\n",
    "        # Add new elements connected via these nodes\n",
    "        for node_of_element in element_to_check_nodes:\n",
    "            connected_elements.update(node_to_elements[node_of_element])\n",
    "\n",
    "    if is_island:\n",
    "        continue\n",
    "\n",
    "\n",
    "island_elements = np.array(list(island_elements), dtype=np.uint64)\n",
    "print(f\"{len(island_elements)} elements are in an island\")\n",
    "print(island_elements)\n",
    "\n"
   ]
  },
  {
   "cell_type": "code",
   "execution_count": 8,
   "metadata": {},
   "outputs": [
    {
     "name": "stdout",
     "output_type": "stream",
     "text": [
      "In total, 216 elements will be deleted...\n"
     ]
    }
   ],
   "source": [
    "lines_to_delete = []\n",
    "with open(input_file) as file:\n",
    "    for i, line in enumerate(file):\n",
    "        if i < starting_line:\n",
    "            continue  # Skip lines before starting_line\n",
    "        if i >= ending_line:\n",
    "            break  # Stop after ending_line\n",
    "        if int(line.split(',')[0]) in  island_elements:  # Adjusted for relative index\n",
    "            lines_to_delete.append(i)\n",
    "            #print(f'element {int(line.split(',')[0])} in line {i} should be deleted')\n",
    "\n",
    "print(f\"In total, {len(lines_to_delete)} elements will be deleted...\")"
   ]
  },
  {
   "cell_type": "markdown",
   "metadata": {},
   "source": [
    "====================================================================================================================================================================================\n",
    "========================================================================== detect flying nodes =====================================================================================\n",
    "===================================================================================================================================================================================="
   ]
  },
  {
   "cell_type": "code",
   "execution_count": 16,
   "metadata": {},
   "outputs": [
    {
     "name": "stdout",
     "output_type": "stream",
     "text": [
      "443304\n"
     ]
    }
   ],
   "source": [
    "# ======= read inp file ==========\n",
    "\n",
    "found_start = np.array([])\n",
    "found_end = np.array([])\n",
    "\n",
    "#open file\n",
    "with open(input_file) as file:\n",
    "    i=0\n",
    "    for line in file:\n",
    "        i += 1\n",
    "        #look for the start of the elements definition\n",
    "        if \"*Node\" in line:\n",
    "            found_start = np.append(found_start,i)\n",
    "        #look for the end of the elements definition\n",
    "        if \"*Element\" in line:\n",
    "            found_end = np.append(found_end,i)\n",
    "\n",
    "#the start is the first line that has the word \"element\" in it\n",
    "starting_line = int(found_start[0])\n",
    "#the end is the first line, after the line that start the elements definition, that has the word \"elset\" in it\n",
    "ending_line = int(found_end[found_end>starting_line][0]-1)\n",
    "\n",
    "#create a panda dictionnary where each line gives an element's ID-number and the ID-number of the 4 nodes that compose it...\n",
    "#!!!!remember!!!!! If you use C3D10, there will be 10 nodes per element.. 4 corners and 6 edges. That is stupid to do.. Convert them to quadratic element after doing your island analysis, this will save you conputationnal cost...\n",
    "original_nodes = pd.read_csv(input_file, header=None, names = [\"NodeNumber\",\"X\",\"Y\",\"Z\"], skiprows=starting_line, nrows=ending_line-starting_line)   #dictionary of the nodes of each element\n",
    "print(original_nodes.shape[0])"
   ]
  },
  {
   "cell_type": "code",
   "execution_count": 17,
   "metadata": {},
   "outputs": [
    {
     "name": "stdout",
     "output_type": "stream",
     "text": [
      "{4106, 40977, 40978, 157719, 151577, 151586, 157732, 127014, 118823, 157734, 157735, 157736, 421929, 94252, 18485, 405559, 108603, 26684, 79934, 26687, 182340, 237653, 79958, 153689, 159834, 153691, 235609, 147552, 131170, 153699, 131173, 153702, 153703, 223336, 36977, 366710, 26758, 196746, 186507, 127118, 211090, 69781, 178328, 114847, 114852, 118952, 59562, 59563, 170156, 2223, 155834, 172221, 157899, 194765, 47311, 26841, 366813, 26846, 141537, 141538, 63724, 157939, 63732, 401652, 55542, 55543, 151800, 55545, 45310, 45311, 88320, 147718, 96521, 151824, 63765, 88345, 88346, 164127, 131362, 88359, 43304, 74029, 74030, 74032, 74033, 125233, 86323, 364859, 172349, 102731, 147790, 164178, 158041, 156007, 156008, 156009, 344443, 39294, 53630, 39298, 395650, 39302, 70024, 80264, 39309, 104852, 8603, 217499, 51621, 108977, 129458, 129459, 6580, 129472, 129473, 70084, 59850, 129489, 70099, 129493, 84438, 129494, 129495, 129496, 129497, 129498, 129500, 410093, 299503, 178675, 410099, 12794, 107004, 242178, 160259, 260610, 102919, 158223, 160273, 51730, 51731, 98835, 98836, 98838, 160274, 213523, 328210, 381473, 6699, 129579, 129582, 145969, 129587, 33333, 172602, 215619, 410183, 96841, 51786, 232011, 287307, 311884, 250447, 62033, 2651, 117341, 96873, 37482, 162413, 162416, 141937, 103027, 103028, 162421, 162422, 19063, 4728, 633, 361082, 361086, 152193, 96898, 154241, 146053, 176774, 162441, 146060, 146061, 146062, 410256, 51865, 35492, 410276, 361126, 361127, 162475, 154284, 49837, 162476, 215729, 154290, 4790, 361145, 66236, 199360, 127686, 127687, 156376, 80609, 6885, 17125, 23274, 11005, 131848, 49948, 236320, 207653, 68426, 144202, 144204, 60248, 164696, 164697, 111457, 66414, 66415, 260977, 226173, 31617, 4994, 150409, 252814, 111504, 111505, 80791, 56221, 39842, 68519, 936, 211881, 134065, 52150, 123874, 123875, 66533, 46054, 123879, 291813, 156661, 125943, 164857, 164860, 142345, 17427, 144404, 162836, 13337, 23578, 158745, 121886, 121887, 123947, 42030, 123963, 154689, 7234, 187459, 123975, 271433, 113744, 123988, 158804, 187480, 44126, 150634, 89196, 185453, 158834, 60532, 121972, 152697, 152701, 144517, 3212, 228496, 332945, 48291, 150693, 150694, 226474, 373940, 130245, 40142, 60624, 89297, 36050, 236756, 17622, 156897, 120039, 165102, 44272, 324850, 48383, 68868, 165125, 152845, 152850, 152851, 27926, 152855, 281884, 9508, 21811, 329032, 312659, 308570, 187743, 9581, 132464, 142712, 159106, 343434, 95637, 343446, 9624, 126366, 126367, 126370, 75181, 48558, 48559, 48561, 48562, 69049, 48570, 48573, 62909, 230849, 48581, 75218, 191961, 122330, 372186, 239077, 194023, 167403, 89582, 67061, 216573, 110083, 155141, 26129, 1555, 134676, 13845, 116252, 116253, 69150, 34337, 69154, 69157, 69158, 69159, 63022, 159283, 97844, 144966, 44624, 304730, 339553, 224876, 79474, 181874, 204412, 16000, 155285, 89758, 69292, 231085, 366258, 28345, 200381, 145100, 11984, 11985, 208595, 71384, 251627, 52973, 52980, 52981, 52982, 184055, 20218, 110331, 20220, 20221, 81664, 159490, 159491, 159492, 159494, 32530, 40722, 36628, 177939, 36630, 229148, 40734, 229165, 5935, 5936, 188216, 263998, 241471, 225094, 212811, 225099, 157528, 34662, 42856, 409448, 3947, 10093, 108397, 108398, 108399, 108400, 114549, 108420, 133004, 34701, 397197, 139154, 26517, 40861, 24488, 18351, 59314, 1971, 278457, 278458, 90047, 143296, 1985, 40904, 4044, 4045, 413644, 40919, 40920, 217047, 40925, 110562, 69603, 96233, 153579, 40947, 40959}\n"
     ]
    }
   ],
   "source": [
    "node_set_connected_to_elements = set(node_list[\"Node\"])\n",
    "node_set_all_nodes = set(original_nodes[\"NodeNumber\"])\n",
    "\n",
    "nodes_to_delete = node_set_all_nodes-node_set_connected_to_elements\n",
    "print(nodes_to_delete)"
   ]
  },
  {
   "cell_type": "code",
   "execution_count": 18,
   "metadata": {},
   "outputs": [
    {
     "name": "stdout",
     "output_type": "stream",
     "text": [
      "In total, 460 nodes will be deleted...\n"
     ]
    }
   ],
   "source": [
    "\n",
    "with open(input_file) as file:\n",
    "    for i, line in enumerate(file):\n",
    "        if i < starting_line:\n",
    "            continue  # Skip lines before starting_line\n",
    "        if i >= ending_line:\n",
    "            break  # Stop after ending_line\n",
    "        if int(line.split(',')[0]) in  nodes_to_delete:  # Adjusted for relative index\n",
    "            lines_to_delete.append(i)\n",
    "            #print(f'element {int(line.split(',')[0])} in line {i} should be deleted')\n",
    "\n",
    "print(f\"In total, {len(nodes_to_delete)} nodes will be deleted...\")"
   ]
  },
  {
   "cell_type": "markdown",
   "metadata": {},
   "source": [
    "====================================================================================================================================================================================\n",
    "========================================================================== create new input file ===================================================================================\n",
    "===================================================================================================================================================================================="
   ]
  },
  {
   "cell_type": "code",
   "execution_count": 9,
   "metadata": {},
   "outputs": [],
   "source": [
    "with open(input_file, 'r') as file, open(output_file, 'w') as new_file:\n",
    "    for i, line in enumerate(file, start=0):\n",
    "        if i not in lines_to_delete:  # Skip multiple lines\n",
    "            new_file.write(line)"
   ]
  }
 ],
 "metadata": {
  "kernelspec": {
   "display_name": "medical_imaging_py312",
   "language": "python",
   "name": "python3"
  },
  "language_info": {
   "codemirror_mode": {
    "name": "ipython",
    "version": 3
   },
   "file_extension": ".py",
   "mimetype": "text/x-python",
   "name": "python",
   "nbconvert_exporter": "python",
   "pygments_lexer": "ipython3",
   "version": "3.12.7"
  }
 },
 "nbformat": 4,
 "nbformat_minor": 2
}
