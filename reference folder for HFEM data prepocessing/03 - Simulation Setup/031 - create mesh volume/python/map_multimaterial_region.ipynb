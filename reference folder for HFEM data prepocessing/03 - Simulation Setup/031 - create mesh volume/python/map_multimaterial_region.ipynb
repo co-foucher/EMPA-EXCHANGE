{
 "cells": [
  {
   "cell_type": "code",
   "execution_count": 1,
   "metadata": {
    "metadata": {}
   },
   "outputs": [],
   "source": [
    "\"\"\"\n",
    "Created on Mon May 13 11:45:31 2024\n",
    "\n",
    "The goal of this script is to use one dicom file to map a region to will then be used by medtool to create mesh\n",
    "\n",
    "@author: cofo\n",
    "\"\"\"\n",
    "import SimpleITK as sitk\n",
    "import tkinter as tk\n",
    "from tkinter import filedialog\n",
    "import numpy as np\n",
    "import ipywidgets\n",
    "import matplotlib.pyplot as plt\n",
    "from PIL import Image\n",
    "import scipy\n",
    "import os\n",
    "import shutil\n",
    "import pandas as pd\n",
    "\n",
    "import sys\n",
    "# Add the directory to the sys.path\n",
    "sys.path.append('D:/EmpaData/COFO - HP/03 - Github/dvpt-at-EMPA/HappyBisons/image analysis')\n",
    "# Now you can import modules from that directory\n",
    "import tools.CT_modification_functions as CT_modification_functions\n",
    "import tools.CT_visualization_functions as CT_visualization_functions\n",
    "%matplotlib qt"
   ]
  },
  {
   "cell_type": "code",
   "execution_count": 2,
   "metadata": {
    "metadata": {}
   },
   "outputs": [
    {
     "name": "stdout",
     "output_type": "stream",
     "text": [
      "d:\\EmpaData\\COFO - HP\\01 PhD research\\202406 - Basel skulls\\WP2 - skull 9254\\03 - Simulation Setup\\031 - create mesh volume\\python\n",
      "d:\\EmpaData\\COFO - HP\\01 PhD research\\202406 - Basel skulls\\WP2 - skull 9254\\03 - Simulation Setup\\031 - create mesh volume\n",
      "d:\\EmpaData\\COFO - HP\\01 PhD research\\202406 - Basel skulls\\WP2 - skull 9254\\03 - Simulation Setup\n",
      "d:\\EmpaData\\COFO - HP\\01 PhD research\\202406 - Basel skulls\\WP2 - skull 9254\n"
     ]
    },
    {
     "name": "stderr",
     "output_type": "stream",
     "text": [
      "<>:12: SyntaxWarning: invalid escape sequence '\\m'\n",
      "<>:14: SyntaxWarning: invalid escape sequence '\\m'\n",
      "<>:12: SyntaxWarning: invalid escape sequence '\\m'\n",
      "<>:14: SyntaxWarning: invalid escape sequence '\\m'\n",
      "C:\\Users\\cofo\\AppData\\Local\\Temp\\ipykernel_4188\\1146823064.py:12: SyntaxWarning: invalid escape sequence '\\m'\n",
      "  direction_map_bone = current_dir + '\\map_bone_region.mhd'\n",
      "C:\\Users\\cofo\\AppData\\Local\\Temp\\ipykernel_4188\\1146823064.py:14: SyntaxWarning: invalid escape sequence '\\m'\n",
      "  direction_map_keratine = current_dir + '\\map_keratine_region.mhd'\n"
     ]
    }
   ],
   "source": [
    "current_dir = os.getcwd()\n",
    "parent_dir = os.path.dirname(current_dir)\n",
    "gr_parent_dir = os.path.dirname(parent_dir)\n",
    "gr_gr_parent_dir = os.path.dirname(gr_parent_dir)\n",
    "\n",
    "print(current_dir)\n",
    "print(parent_dir)\n",
    "print(gr_parent_dir)\n",
    "print(gr_gr_parent_dir)\n",
    "\n",
    "\n",
    "direction_map_bone = current_dir + '\\map_bone_region.mhd'\n",
    "\n",
    "direction_map_keratine = current_dir + '\\map_keratine_region.mhd'\n",
    "\n",
    "direction_original_images =  gr_gr_parent_dir + \"\\\\02 - Images Processing\\\\023 - filtering\\\\filtered_image-set1.mhd\"\n",
    "\n",
    "output_folder_path = current_dir\n",
    "\n"
   ]
  },
  {
   "cell_type": "code",
   "execution_count": 3,
   "metadata": {
    "metadata": {}
   },
   "outputs": [],
   "source": [
    "# Load the keratine zone from file\n",
    "map_keratine = sitk.ReadImage(direction_map_keratine)\n",
    "map_bone = sitk.ReadImage(direction_map_bone) \n",
    "original_images = sitk.ReadImage(direction_original_images) \n",
    "\n",
    "#\n",
    "map_keratine = sitk.Subtract(map_keratine, 100 * sitk.Cast(map_keratine, map_keratine.GetPixelID()))\n"
   ]
  },
  {
   "cell_type": "code",
   "execution_count": 4,
   "metadata": {
    "metadata": {}
   },
   "outputs": [],
   "source": [
    "result_image = sitk.Add(map_bone,map_keratine)\n",
    "\n",
    "\n",
    "#see it\n",
    "CT_visualization_functions.browse_images(result_image)\n",
    "\n",
    "CT_visualization_functions.browse_blended_images(result_image,original_images,True)\n",
    "\n"
   ]
  },
  {
   "cell_type": "code",
   "execution_count": 5,
   "metadata": {
    "metadata": {}
   },
   "outputs": [],
   "source": [
    "\n",
    "origin = original_images.GetOrigin()\n",
    "spacing = original_images.GetSpacing()\n",
    "direction = original_images.GetDirection()\n",
    "\n",
    "result_image.SetSpacing(spacing)\n",
    "result_image.SetOrigin(origin)\n",
    "result_image.SetDirection(direction)\n",
    "\n",
    "sitk.WriteImage(result_image, output_folder_path + \"/map_multimaterial.mhd\")"
   ]
  },
  {
   "cell_type": "code",
   "execution_count": 6,
   "metadata": {
    "metadata": {}
   },
   "outputs": [
    {
     "name": "stdout",
     "output_type": "stream",
     "text": [
      "d:\\EmpaData\\COFO - HP\\01 PhD research\\202406 - Basel skulls\\WP2 - skull 9254\\03 - Simulation Setup\\031 - create mesh volume\\python\n"
     ]
    }
   ],
   "source": [
    "print(output_folder_path)"
   ]
  }
 ],
 "metadata": {
  "kernelspec": {
   "display_name": "medical_imaging",
   "language": "python",
   "name": "python3"
  },
  "language_info": {
   "codemirror_mode": {
    "name": "ipython",
    "version": 3
   },
   "file_extension": ".py",
   "mimetype": "text/x-python",
   "name": "python",
   "nbconvert_exporter": "python",
   "pygments_lexer": "ipython3",
   "version": "3.12.2"
  }
 },
 "nbformat": 4,
 "nbformat_minor": 2
}
