{
 "cells": [
  {
   "cell_type": "code",
   "execution_count": 1,
   "metadata": {
    "metadata": {}
   },
   "outputs": [],
   "source": [
    "\"\"\"\n",
    "Created on Mon May 13 11:45:31 2024\n",
    "\n",
    "The goal of this script is to use one dicom file to map a region to will then be used by medtool to create mesh\n",
    "\n",
    "@author: cofo\n",
    "\"\"\"\n",
    "import SimpleITK as sitk\n",
    "import tkinter as tk\n",
    "from tkinter import filedialog\n",
    "import numpy as np\n",
    "import ipywidgets\n",
    "import matplotlib.pyplot as plt\n",
    "from PIL import Image\n",
    "import scipy\n",
    "import os\n",
    "import shutil\n",
    "import pandas as pd\n",
    "\n",
    "import sys\n",
    "# Add the directory to the sys.path\n",
    "sys.path.append('D:/EmpaData/COFO - HP/03 - Github/dvpt-at-EMPA/HappyBisons/image analysis')\n",
    "# Now you can import modules from that directory\n",
    "import tools.CT_modification_functions as CT_modification_functions\n",
    "import tools.CT_visualization_functions as CT_visualization_functions\n",
    "%matplotlib qt"
   ]
  },
  {
   "cell_type": "code",
   "execution_count": 2,
   "metadata": {
    "metadata": {}
   },
   "outputs": [
    {
     "name": "stdout",
     "output_type": "stream",
     "text": [
      "d:\\EmpaData\\COFO - HP\\01 PhD research\\202406 - Basel skulls\\WP2 - skull 9254\\03 - Simulation Setup\\031 - create mesh volume\\python\n",
      "d:\\EmpaData\\COFO - HP\\01 PhD research\\202406 - Basel skulls\\WP2 - skull 9254\\03 - Simulation Setup\\031 - create mesh volume\n"
     ]
    },
    {
     "name": "stderr",
     "output_type": "stream",
     "text": [
      "<>:8: SyntaxWarning: invalid escape sequence '\\m'\n",
      "<>:10: SyntaxWarning: invalid escape sequence '\\m'\n",
      "<>:8: SyntaxWarning: invalid escape sequence '\\m'\n",
      "<>:10: SyntaxWarning: invalid escape sequence '\\m'\n",
      "C:\\Users\\cofo\\AppData\\Local\\Temp\\ipykernel_3752\\180928903.py:8: SyntaxWarning: invalid escape sequence '\\m'\n",
      "  direction_map_whole_solid = current_dir + '\\map_whole_meshing_region.mhd'\n",
      "C:\\Users\\cofo\\AppData\\Local\\Temp\\ipykernel_3752\\180928903.py:10: SyntaxWarning: invalid escape sequence '\\m'\n",
      "  direction_map_keratine = current_dir + '\\map_keratine_region.mhd'\n"
     ]
    }
   ],
   "source": [
    "current_dir = os.getcwd()\n",
    "parent_dir = os.path.dirname(current_dir)\n",
    "\n",
    "print(current_dir)\n",
    "print(parent_dir)\n",
    "\n",
    "\n",
    "direction_map_whole_solid = current_dir + '\\map_whole_meshing_region.mhd'\n",
    "\n",
    "direction_map_keratine = current_dir + '\\map_keratine_region.mhd'\n",
    "\n",
    "output_folder_path = current_dir\n"
   ]
  },
  {
   "cell_type": "code",
   "execution_count": 3,
   "metadata": {
    "metadata": {}
   },
   "outputs": [
    {
     "name": "stderr",
     "output_type": "stream",
     "text": [
      "D:\\EmpaData/COFO - HP/03 - Github/dvpt-at-EMPA/HappyBisons/image analysis\\tools\\CT_visualization_functions.py:199: RuntimeWarning: invalid value encountered in divide\n",
      "  image2 = image2 / np.max(image2) * 255\n",
      "D:\\EmpaData/COFO - HP/03 - Github/dvpt-at-EMPA/HappyBisons/image analysis\\tools\\CT_visualization_functions.py:203: RuntimeWarning: invalid value encountered in cast\n",
      "  blended_image = np.clip(blended_image, 0, 255).astype(np.uint8)\n"
     ]
    }
   ],
   "source": [
    "# Load the keratine zone from file\n",
    "\n",
    "map_keratine = sitk.ReadImage(direction_map_keratine) \n",
    "\n",
    "image_keratine = CT_modification_functions.dilate_filter(map_keratine,1)\n",
    "\n",
    "# Load the image from file\n",
    "map_whole_solid = sitk.ReadImage(direction_map_whole_solid)\n",
    "\n",
    "# Convert the SimpleITK image to a NumPy array\n",
    "solid_array = sitk.GetArrayFromImage(map_whole_solid)\n",
    "keratine_array = sitk.GetArrayFromImage(map_keratine)\n",
    "\n",
    "#see it\n",
    "\n",
    "\n",
    "CT_visualization_functions.browse_blended_images(map_whole_solid, map_keratine,True)\n",
    "\n"
   ]
  },
  {
   "cell_type": "code",
   "execution_count": 5,
   "metadata": {
    "metadata": {}
   },
   "outputs": [],
   "source": [
    "result_image = sitk.Subtract(map_whole_solid, map_keratine)\n",
    "result_image = CT_modification_functions.apply_threshold(result_image,50,255)\n",
    "\n",
    "# Coordinates of the specific pixel\n",
    "x, y, z = 313,293,1488\n",
    "#x, y, z = 0,0,0\n",
    "#print(binary_image[x, y, z])\n",
    "\n",
    "# Use the connected component filter with the seed \n",
    "connected_filter = sitk.ConnectedThresholdImageFilter()\n",
    "connected_filter.SetLower(1)\n",
    "connected_filter.SetUpper(255)\n",
    "connected_filter.SetReplaceValue(255)\n",
    "connected_filter.SetSeedList([(x, y, z)])\n",
    "\n",
    "\n",
    "result_image = CT_modification_functions.erode_filter(result_image,1)\n",
    "result_image = connected_filter.Execute(result_image)\n",
    "result_image = CT_modification_functions.dilate_filter(result_image,1)\n",
    "\n",
    "result_image = sitk.Cast(result_image, sitk.sitkUInt8)\n",
    "\n",
    "#see it\n",
    "result_array = sitk.GetArrayFromImage(result_image)\n",
    "CT_visualization_functions.browse_images(result_image)\n",
    "CT_visualization_functions.browse_blended_images(map_whole_solid, result_image,True)\n",
    "\n"
   ]
  },
  {
   "cell_type": "code",
   "execution_count": 6,
   "metadata": {
    "metadata": {}
   },
   "outputs": [
    {
     "name": "stdout",
     "output_type": "stream",
     "text": [
      "d:\\EmpaData\\COFO - HP\\01 PhD research\\202406 - Basel skulls\\WP2 - skull 9254\\03 - Simulation Setup\\031 - create mesh volume\\python\n"
     ]
    }
   ],
   "source": [
    "\n",
    "sitk.WriteImage(result_image, output_folder_path + \"/map_bone_region.mhd\")\n",
    "print(output_folder_path)"
   ]
  }
 ],
 "metadata": {
  "kernelspec": {
   "display_name": "medical_imaging",
   "language": "python",
   "name": "python3"
  },
  "language_info": {
   "codemirror_mode": {
    "name": "ipython",
    "version": 3
   },
   "file_extension": ".py",
   "mimetype": "text/x-python",
   "name": "python",
   "nbconvert_exporter": "python",
   "pygments_lexer": "ipython3",
   "version": "3.12.2"
  }
 },
 "nbformat": 4,
 "nbformat_minor": 2
}
