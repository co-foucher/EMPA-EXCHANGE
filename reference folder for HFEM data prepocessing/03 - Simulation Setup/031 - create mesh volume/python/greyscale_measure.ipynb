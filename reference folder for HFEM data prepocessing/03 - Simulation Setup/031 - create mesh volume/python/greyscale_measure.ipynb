{
 "cells": [
  {
   "cell_type": "code",
   "execution_count": 1,
   "metadata": {},
   "outputs": [
    {
     "name": "stdout",
     "output_type": "stream",
     "text": [
      "you loaded the CT visualizer window v20.11.24\n"
     ]
    }
   ],
   "source": [
    "import SimpleITK as sitk\n",
    "import tkinter as tk\n",
    "from tkinter import filedialog\n",
    "import numpy as np\n",
    "import ipywidgets\n",
    "import matplotlib.pyplot as plt\n",
    "from PIL import Image\n",
    "import scipy\n",
    "import os\n",
    "import shutil\n",
    "import pandas as pd\n",
    "from scipy import signal\n",
    "import cv2 as cv\n",
    "import sys\n",
    "\n",
    "import sys\n",
    "# Add the directory to the sys.path\n",
    "sys.path.append('D:/COFO - HP/03 - Github/dvpt-at-EMPA/HappyBisons/image analysis')\n",
    "# Now you can import modules from that directory\n",
    "import tools.CT_modification_functions as CT_modification_functions\n",
    "import tools.CT_visualization_functions as CT_visualization_functions\n",
    "import tools.CT_visualization_window as CT_visualization_window\n",
    "import tools.loading_bar as loadingbar\n",
    "%matplotlib qt\n",
    "\n",
    "CT_visualization_window.check_existence()"
   ]
  },
  {
   "cell_type": "code",
   "execution_count": 2,
   "metadata": {},
   "outputs": [
    {
     "name": "stdout",
     "output_type": "stream",
     "text": [
      "d:\\COFO - HP\\01 PhD research\\202403 - Bern skull\\WP5 - bern-001\\03 - Simulation Setup\\031 - create mesh volume\\python\n",
      "d:\\COFO - HP\\01 PhD research\\202403 - Bern skull\\WP5 - bern-001\\03 - Simulation Setup\\031 - create mesh volume\n",
      "d:\\COFO - HP\\01 PhD research\\202403 - Bern skull\\WP5 - bern-001\\03 - Simulation Setup\n",
      "d:\\COFO - HP\\01 PhD research\\202403 - Bern skull\\WP5 - bern-001\n",
      "d:\\COFO - HP\\01 PhD research\\202403 - Bern skull\\WP5 - bern-001\\02 - Images Processing\\023 - filtering\\filtered_image-set2-echelle.mhd\n",
      "d:\\COFO - HP\\01 PhD research\\202403 - Bern skull\\WP5 - bern-001\\03 - Simulation Setup\\031 - create mesh volume\\python\n"
     ]
    }
   ],
   "source": [
    "# ========================== defining working directories ================================\n",
    "\n",
    "current_dir = os.getcwd()\n",
    "parent_dir = os.path.dirname(current_dir)\n",
    "gr_parent_dir = os.path.dirname(parent_dir)\n",
    "gr_gr_parent_dir = os.path.dirname(gr_parent_dir)\n",
    "\n",
    "print(current_dir)\n",
    "print(parent_dir)\n",
    "print(gr_parent_dir)\n",
    "print(gr_gr_parent_dir)\n",
    "\n",
    "\n",
    "input_file_path = gr_gr_parent_dir + \"\\\\02 - Images Processing\\\\023 - filtering\\\\filtered_image-set2-echelle.mhd\"\n",
    "output_folder_path = current_dir\n",
    "\n",
    "print(input_file_path)\n",
    "print(output_folder_path)\n",
    "\n"
   ]
  },
  {
   "cell_type": "code",
   "execution_count": 9,
   "metadata": {},
   "outputs": [],
   "source": [
    "def detect_circles(array):\n",
    "    \"\"\"\n",
    "    for some reason, circles is a 3D matrix. But the first dimension is useless... Tehn, each row represents one circle. It has 3 columns: 0,1 are x,y for the center of the circle; 3 is the radius of the circle\n",
    "\n",
    "    High param1 (e.g., 200): Detects only the clearest edges, which may ignore coins with shadows or faint boundaries.\n",
    "    Low param1 (e.g., 50): Detects more edges, including noise, which might lead to spurious detections.\n",
    "    High param2 (e.g., 50): Requires strong evidence for circles, reducing false positives but missing faint or overlapping coins.\n",
    "    Low param2 (e.g., 10): Detects more circles, but many will be false positives due to noise.\n",
    "\n",
    "    \"\"\"\n",
    "    rows = array.shape[0]\n",
    "    circles = cv.HoughCircles(array, cv.HOUGH_GRADIENT, 1, minDist = rows / 10,\n",
    "                                param1=3, param2=30,\n",
    "                                minRadius=10, maxRadius=40)\n",
    "    if circles is not None:\n",
    "        circles = circles[0,:,:]\n",
    "    return circles\n",
    "\n",
    "def draw_circles(array,circles):\n",
    "    if circles is not None:\n",
    "        circles = np.uint16(np.around(circles))\n",
    "        for i in circles[0, :]:\n",
    "            center = (i[0], i[1])\n",
    "            radius = i[2]\n",
    "            cv.circle(array, center, radius, (255, 0, 255), 2)\n",
    "        cv.imshow(\"detected circles\", one_image_array)\n",
    "\n",
    "def add_circles(array,circles):\n",
    "    if circles is not None:\n",
    "        circles = np.uint16(np.around(circles))\n",
    "        for circle in circles:\n",
    "            center = (circle[0], circle[1])\n",
    "            radius = circle[2]\n",
    "            cv.circle(array, center, radius, (255, 0, 255), 2)\n",
    "    \n",
    "    return array\n",
    "\n",
    "\n",
    "def list_pixels_in_circle(circle_xyr):\n",
    "    x = circle_xyr[0]\n",
    "    y = circle_xyr[1]\n",
    "    radius = int(circle_xyr[2])\n",
    "    selected_pixels = []\n",
    "\n",
    "    for t in range(-radius, radius):        # thickness of the brush (x-axis)\n",
    "        for g in range(-radius, radius):    # height of the brush (y-axis)    \n",
    "            if np.sqrt(t ** 2 + g ** 2) <= radius:  # make the brush round\n",
    "                selected_pixels.append([int(x + t), int(y + g)])  # append list of selected pixels\n",
    "    \n",
    "    selected_pixels = np.array(selected_pixels)  # convert list to numpy array\n",
    "    return selected_pixels\n",
    "            \n"
   ]
  },
  {
   "cell_type": "code",
   "execution_count": 4,
   "metadata": {},
   "outputs": [
    {
     "name": "stdout",
     "output_type": "stream",
     "text": [
      "Cropping image\n",
      "Current size is 3422, 130, 1024\n",
      "Image cropped\n",
      "New size is 3422, 130, 1024\n"
     ]
    },
    {
     "name": "stderr",
     "output_type": "stream",
     "text": [
      "2024-11-22 13:13:17,641 - CT_window_logger - INFO - starting window setup function\n",
      "2024-11-22 13:13:17,641 - CT_window_logger - WARNING - Your image uses float32 values, values have been rescaled in the plot to fit in UINT8, but still extracted true on click.\n",
      "2024-11-22 13:13:21,476 - CT_window_logger - INFO - window setup function succesfull\n"
     ]
    },
    {
     "data": {
      "text/plain": [
       "array([], dtype=float64)"
      ]
     },
     "execution_count": 4,
     "metadata": {},
     "output_type": "execute_result"
    }
   ],
   "source": [
    "# Load the images from file\n",
    "images = sitk.ReadImage(input_file_path)\n",
    "smoothed_image = sitk.SmoothingRecursiveGaussian(images, sigma=0.6)\n",
    "smoothed_image = CT_modification_functions.crop_images(130, \"up\", smoothed_image)\n",
    "\n",
    "#transform the image into a numpy matrix. data needs to be uint8\n",
    "images_array = sitk.GetArrayFromImage(smoothed_image)\n",
    "modified_images_array = images_array / images_array.max() * 255\n",
    "modified_images_array = modified_images_array - 95\n",
    "modified_images_array[modified_images_array < 0] = 0\n",
    "modified_images_array = modified_images_array / modified_images_array.max() * 255\n",
    "\n",
    "CT_visualization_window.open_window(sitk.GetImageFromArray(modified_images_array))\n"
   ]
  },
  {
   "cell_type": "code",
   "execution_count": 10,
   "metadata": {},
   "outputs": [
    {
     "name": "stdout",
     "output_type": "stream",
     "text": [
      "Progress: [##############################] 100%\n",
      "[[1036.69445801 1180.19726562 1469.97033691 1744.99377441 2013.91992188]\n",
      " [1036.72717285 1180.37194824 1470.20825195 1744.29089355 2013.36853027]\n",
      " [1036.64013672 1180.70715332 1470.50109863 1743.5177002  2014.90588379]\n",
      " ...\n",
      " [1030.21826172 1181.65771484 1470.15466309 1741.59619141 2010.53112793]\n",
      " [1029.31872559 1179.30529785 1470.2611084  1741.18005371 2009.79541016]\n",
      " [1029.46569824 1178.72033691 1468.66906738 1740.89697266 2009.21240234]]\n"
     ]
    },
    {
     "name": "stderr",
     "output_type": "stream",
     "text": [
      "2024-11-22 13:16:48,425 - CT_window_logger - INFO - starting window setup function\n",
      "2024-11-22 13:16:48,425 - CT_window_logger - WARNING - Your image uses float32 values, values have been rescaled in the plot to fit in UINT8, but still extracted true on click.\n",
      "2024-11-22 13:17:29,786 - CT_window_logger - INFO - window setup function succesfull\n"
     ]
    },
    {
     "data": {
      "text/plain": [
       "array([], dtype=float64)"
      ]
     },
     "execution_count": 10,
     "metadata": {},
     "output_type": "execute_result"
    }
   ],
   "source": [
    "slice_number = images_array.shape[0]\n",
    "circles = x = np.zeros((1,3))\n",
    "circled_array = np.copy(modified_images_array)          #this is the array used to visualize where the circles are\n",
    "mean_in_circles = np.zeros((slice_number,5))\n",
    "\n",
    "for n in range(0,slice_number):                                     #go through all the slices\n",
    "    one_image_array = circled_array[n,:,:].astype(np.uint8)\n",
    "    circles = detect_circles(one_image_array)                       #detect the circles in the current slice (x,y,r)\n",
    "    if circles is not None:\n",
    "        sorted_circles = circles[circles[:, 0].argsort()]           \n",
    "        circled_array[n,:,:] = add_circles(circled_array[n,:,:], sorted_circles)        #draw the circles on the circled_array \n",
    "        if sorted_circles.shape[0] == 5:\n",
    "            sorted_circles[:,2] = sorted_circles[:,2] * 0.8                             #reduce the radius of the circles to make sure we don't measure on the edge\n",
    "            for i in range(0,sorted_circles.shape[0]):                          #for every circle\n",
    "                pixels = list_pixels_in_circle(sorted_circles[i,:])                 #get the pixels inside the circle\n",
    "                x_coords, y_coords = pixels[:, 0], pixels[:, 1]\n",
    "                circled_array[n, y_coords, x_coords] = 0\n",
    "                mean =np.mean(images_array[n, y_coords, x_coords])              #calculate the mean value of these pixels inside !!image array!!!\n",
    "                mean_in_circles[n,i] = mean                                     \n",
    "    \n",
    "    loadingbar.main(n, slice_number, bar_length=30)\n",
    "\n",
    "print(mean_in_circles)\n",
    "\n",
    "CT_visualization_window.open_window(sitk.GetImageFromArray(circled_array))\n",
    "\n"
   ]
  },
  {
   "cell_type": "code",
   "execution_count": null,
   "metadata": {},
   "outputs": [
    {
     "name": "stdout",
     "output_type": "stream",
     "text": [
      "[np.float64(1017.2470455851317), np.float64(1150.585132700503), np.float64(1420.0976614453252), np.float64(1675.1975566821875), np.float64(1931.5637408895411)]\n"
     ]
    }
   ],
   "source": [
    "final_mean = [0,0,0,0,0]\n",
    "\n",
    "#calculating mean accross all slices\n",
    "\n",
    "temp = mean_in_circles[:,0]\n",
    "final_mean[0] = np.mean(temp[temp != 0])\n",
    "temp = mean_in_circles[:,1]\n",
    "final_mean[1] = np.mean(temp[temp != 0])\n",
    "temp = mean_in_circles[:,2]\n",
    "final_mean[2] = np.mean(temp[temp != 0])\n",
    "temp = mean_in_circles[:,3]\n",
    "final_mean[3] = np.mean(temp[temp != 0])\n",
    "temp = mean_in_circles[:,4]\n",
    "final_mean[4] = np.mean(temp[temp != 0])\n",
    "print(final_mean)\n"
   ]
  },
  {
   "cell_type": "code",
   "execution_count": 12,
   "metadata": {},
   "outputs": [
    {
     "name": "stderr",
     "output_type": "stream",
     "text": [
      "2024-11-22 13:17:33,724 - CT_window_logger - INFO - starting window setup function\n",
      "2024-11-22 13:17:33,725 - CT_window_logger - WARNING - Your image uses uint16 values, values have been rescaled in the plot to fit in UINT8, but still extracted true on click.\n",
      "2024-11-22 13:17:40,686 - CT_window_logger - INFO - window setup function succesfull\n"
     ]
    },
    {
     "data": {
      "text/plain": [
       "array([], dtype=float64)"
      ]
     },
     "execution_count": 12,
     "metadata": {},
     "output_type": "execute_result"
    }
   ],
   "source": [
    "import plotly.graph_objects as go\n",
    "import plotly.offline as pyo\n",
    "\n",
    "def set_layout(x_name, xaxis_type, y_name) :\n",
    "    layout = go.Layout(\n",
    "        title={\n",
    "            'text': 'EMPA: MIMIC project',\n",
    "            'font': {'size': 40, 'family': 'Arial Black', 'color': 'black'},\n",
    "            'x': 0.5, 'xanchor': 'center'},\n",
    "        xaxis=dict(\n",
    "            title=x_name,\n",
    "            showgrid=True,\n",
    "            zeroline=True,\n",
    "            showline=True,\n",
    "            zerolinecolor='black',\n",
    "            zerolinewidth=3,\n",
    "            gridcolor='grey',\n",
    "            mirror=True,\n",
    "            linewidth=2,\n",
    "            type=xaxis_type,\n",
    "            linecolor='black',\n",
    "            tickfont=dict(\n",
    "                family='Arial',\n",
    "                size=25,\n",
    "                color='black'\n",
    "            )\n",
    "        ),\n",
    "        yaxis=dict(\n",
    "            title=y_name,\n",
    "            showgrid=True,\n",
    "            zeroline=True,\n",
    "            showline=True,\n",
    "            zerolinecolor='black',\n",
    "            zerolinewidth=3,\n",
    "            gridcolor='grey',\n",
    "            mirror=True,\n",
    "            linewidth=2,\n",
    "            linecolor='black',\n",
    "            tickfont=dict(\n",
    "                family='Arial',\n",
    "                size=25,\n",
    "                color='black'\n",
    "            )\n",
    "        ),\n",
    "        font=dict(\n",
    "            family='Arial',\n",
    "            size=25,\n",
    "            color='black'\n",
    "        ),\n",
    "        paper_bgcolor='white',\n",
    "        plot_bgcolor='white',\n",
    "        hovermode='closest',\n",
    "        \n",
    "    )\n",
    "    return layout\n",
    "\n",
    "\n",
    "\n",
    "fig = go.Figure()\n",
    "\n",
    "#measured values\n",
    "x_values = final_mean\n",
    "y_values = np.array([802,602,400,198,102])\n",
    "\n",
    "sample_name = \"filtered_image-set1\"\n",
    "\n",
    "fig.add_trace(go.Scatter(x=x_values, y=y_values, mode='lines',name=sample_name))\n",
    "fig.update_traces(showlegend = True)\n",
    "\n",
    "#linear fit\n",
    "m, b = np.polyfit(y_values, x_values, 1)\n",
    "\n",
    "y_fit = np.array(range(0,1250,100))\n",
    "x_fit = m*y_fit+b\n",
    "\n",
    "fig.add_trace(go.Scatter(x=x_fit, y=y_fit, mode='lines',name=f\"linear regression; m={m}, b={b}\"))\n",
    "fig.update_traces(showlegend = True)\n",
    "\n",
    "# Set up layout\n",
    "layout = set_layout(\"grey level\", \"linear\", \"HA density\")\n",
    "fig.update_layout(layout)\n",
    "\n",
    "#plot figure\n",
    "pyo.plot(fig, auto_open=True)\n",
    "\n",
    "CT_visualization_window.open_window(images)"
   ]
  }
 ],
 "metadata": {
  "kernelspec": {
   "display_name": "medical_imaging_py312",
   "language": "python",
   "name": "python3"
  },
  "language_info": {
   "codemirror_mode": {
    "name": "ipython",
    "version": 3
   },
   "file_extension": ".py",
   "mimetype": "text/x-python",
   "name": "python",
   "nbconvert_exporter": "python",
   "pygments_lexer": "ipython3",
   "version": "3.12.7"
  }
 },
 "nbformat": 4,
 "nbformat_minor": 2
}
