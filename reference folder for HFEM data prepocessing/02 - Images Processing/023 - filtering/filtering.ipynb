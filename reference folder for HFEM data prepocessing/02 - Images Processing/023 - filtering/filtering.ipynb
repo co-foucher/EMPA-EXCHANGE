{
 "cells": [
  {
   "cell_type": "code",
   "execution_count": 1,
   "metadata": {},
   "outputs": [
    {
     "name": "stdout",
     "output_type": "stream",
     "text": [
      "you loaded the CT visualizer window v20.11.24\n"
     ]
    }
   ],
   "source": [
    "import SimpleITK as sitk\n",
    "import tkinter as tk\n",
    "from tkinter import filedialog\n",
    "import os\n",
    "\n",
    "import sys\n",
    "# Add the directory to the sys.path\n",
    "sys.path.append('D:/COFO - HP/03 - Github/dvpt-at-EMPA/HappyBisons/image analysis')\n",
    "# Now you can import modules from that directory\n",
    "import tools.CT_modification_functions as CT_modification_functions\n",
    "import tools.CT_visualization_functions as CT_visualization_functions\n",
    "import tools.CT_visualization_window as CT_visualization_window\n",
    "import tools.loading_bar as loadingbar\n",
    "%matplotlib qt\n",
    "\n",
    "CT_visualization_window.check_existence()"
   ]
  },
  {
   "cell_type": "code",
   "execution_count": 2,
   "metadata": {},
   "outputs": [
    {
     "name": "stdout",
     "output_type": "stream",
     "text": [
      "d:\\COFO - HP\\01 PhD research\\202403 - Bern skull\\WP5 - bern-001\\02 - Images Processing\\023 - filtering\n",
      "d:\\COFO - HP\\01 PhD research\\202403 - Bern skull\\WP5 - bern-001\\02 - Images Processing\n",
      "d:\\COFO - HP\\01 PhD research\\202403 - Bern skull\\WP5 - bern-001\\02 - Images Processing\\022 - ROI selection\\ROI-set2.mhd\n",
      "d:\\COFO - HP\\01 PhD research\\202403 - Bern skull\\WP5 - bern-001\\02 - Images Processing\\023 - filtering\\filtered_image-set2.mhd\n"
     ]
    },
    {
     "name": "stderr",
     "output_type": "stream",
     "text": [
      "<>:7: SyntaxWarning: invalid escape sequence '\\R'\n",
      "<>:7: SyntaxWarning: invalid escape sequence '\\R'\n",
      "C:\\Users\\cofo\\AppData\\Local\\Temp\\ipykernel_10852\\3796553176.py:7: SyntaxWarning: invalid escape sequence '\\R'\n",
      "  input_file_path = parent_dir + '\\\\022 - ROI selection\\ROI-set2.mhd'\n"
     ]
    }
   ],
   "source": [
    "current_dir = os.getcwd()\n",
    "parent_dir = os.path.dirname(current_dir)\n",
    "\n",
    "print(current_dir)\n",
    "print(parent_dir)\n",
    "\n",
    "input_file_path = parent_dir + '\\\\022 - ROI selection\\ROI-set2.mhd'\n",
    "output_file_path = current_dir+\"\\\\filtered_image-set2.mhd\"\n",
    "print(input_file_path)\n",
    "print(output_file_path)\n"
   ]
  },
  {
   "cell_type": "code",
   "execution_count": 9,
   "metadata": {},
   "outputs": [
    {
     "name": "stderr",
     "output_type": "stream",
     "text": [
      "2024-11-20 13:46:38,053 - CT_window_logger - INFO - starting window setup function\n",
      "2024-11-20 13:46:38,053 - CT_window_logger - WARNING - Your image uses uint16 values, values have been rescaled in the plot to fit in UINT8, but still extracted true on click.\n",
      "2024-11-20 13:46:46,769 - CT_window_logger - INFO - opening new histogram window\n",
      "2024-11-20 13:47:15,490 - CT_window_logger - INFO - window setup function succesfull\n"
     ]
    },
    {
     "data": {
      "text/plain": [
       "array([], dtype=float64)"
      ]
     },
     "execution_count": 9,
     "metadata": {},
     "output_type": "execute_result"
    }
   ],
   "source": [
    "# Read the image file (replace 'input_file_path' with the actual file path)\n",
    "\n",
    "original_image = sitk.ReadImage(input_file_path)\n",
    "\n",
    "CT_visualization_window.open_window(original_image)"
   ]
  },
  {
   "cell_type": "code",
   "execution_count": null,
   "metadata": {},
   "outputs": [
    {
     "name": "stderr",
     "output_type": "stream",
     "text": [
      "2024-11-20 13:48:50,567 - CT_window_logger - INFO - starting window setup function\n",
      "2024-11-20 13:48:50,567 - CT_window_logger - WARNING - Your image uses uint16 values, values have been rescaled in the plot to fit in UINT8, but still extracted true on click.\n",
      "2024-11-20 13:49:02,617 - CT_window_logger - INFO - opening new histogram window\n",
      "2024-11-20 13:49:46,102 - CT_window_logger - INFO - window setup function succesfull\n"
     ]
    },
    {
     "data": {
      "text/plain": [
       "array([], dtype=float64)"
      ]
     },
     "execution_count": 12,
     "metadata": {},
     "output_type": "execute_result"
    }
   ],
   "source": [
    "#trying to level all the images...\n",
    "\n",
    "temp = sitk.GetArrayFromImage(original_image)\n",
    "\n",
    "lower_threshold = 7500\n",
    "upper_threshold = 11000\n",
    "\n",
    "temp[temp > upper_threshold] = lower_threshold\n",
    "temp[temp <lower_threshold] = lower_threshold\n",
    "\n",
    "temp = temp - lower_threshold\n",
    "\n",
    "WL_image = sitk.GetImageFromArray(temp)\n",
    "CT_visualization_window.open_window(WL_image)"
   ]
  },
  {
   "cell_type": "code",
   "execution_count": 13,
   "metadata": {},
   "outputs": [],
   "source": [
    "#save the result image in the prompted direction\n",
    "Spacing = original_image.GetSpacing()\n",
    "Origin = original_image.GetOrigin()\n",
    "direction = original_image.GetDirection()\n",
    "WL_image.SetSpacing(Spacing)\n",
    "WL_image.SetOrigin(Origin)\n",
    "WL_image.SetDirection(direction)\n",
    "sitk.WriteImage(WL_image, output_file_path)\n",
    "\n"
   ]
  },
  {
   "cell_type": "code",
   "execution_count": 16,
   "metadata": {},
   "outputs": [
    {
     "name": "stderr",
     "output_type": "stream",
     "text": [
      "<>:1: SyntaxWarning: invalid escape sequence '\\R'\n",
      "<>:1: SyntaxWarning: invalid escape sequence '\\R'\n",
      "C:\\Users\\cofo\\AppData\\Local\\Temp\\ipykernel_10852\\2780520134.py:1: SyntaxWarning: invalid escape sequence '\\R'\n",
      "  echelle_file_path = parent_dir + '\\\\022 - ROI selection\\ROI-echelle-set2.mhd'\n",
      "2024-11-20 13:52:28,922 - CT_window_logger - INFO - starting window setup function\n",
      "2024-11-20 13:52:28,922 - CT_window_logger - WARNING - Your image uses uint16 values, values have been rescaled in the plot to fit in UINT8, but still extracted true on click.\n",
      "2024-11-20 13:52:41,985 - CT_window_logger - INFO - window setup function succesfull\n"
     ]
    },
    {
     "data": {
      "text/plain": [
       "array([], dtype=float64)"
      ]
     },
     "execution_count": 16,
     "metadata": {},
     "output_type": "execute_result"
    }
   ],
   "source": [
    "echelle_file_path = parent_dir + '\\\\022 - ROI selection\\ROI-echelle-set2.mhd'\n",
    "echelle_image = sitk.ReadImage(echelle_file_path)\n",
    "\n",
    "\n",
    "temp = sitk.GetArrayFromImage(echelle_image)\n",
    "\n",
    "temp[temp > upper_threshold] = lower_threshold\n",
    "temp[temp <lower_threshold] = lower_threshold\n",
    "\n",
    "temp = temp - lower_threshold\n",
    "\n",
    "WL_echelle = sitk.GetImageFromArray(temp)\n",
    "CT_visualization_window.open_window(WL_echelle)\n"
   ]
  },
  {
   "cell_type": "code",
   "execution_count": 18,
   "metadata": {},
   "outputs": [],
   "source": [
    "#save the result image in the prompted direction\n",
    "Spacing = original_image.GetSpacing()\n",
    "Origin = original_image.GetOrigin()\n",
    "direction = original_image.GetDirection()\n",
    "WL_echelle.SetSpacing(Spacing)\n",
    "WL_echelle.SetOrigin(Origin)\n",
    "WL_echelle.SetDirection(direction)\n",
    "sitk.WriteImage(WL_echelle, current_dir+\"\\\\filtered_image-set2-echelle.mhd\")\n",
    "\n"
   ]
  }
 ],
 "metadata": {
  "kernelspec": {
   "display_name": "medical_imaging_py312",
   "language": "python",
   "name": "python3"
  },
  "language_info": {
   "codemirror_mode": {
    "name": "ipython",
    "version": 3
   },
   "file_extension": ".py",
   "mimetype": "text/x-python",
   "name": "python",
   "nbconvert_exporter": "python",
   "pygments_lexer": "ipython3",
   "version": "3.12.7"
  }
 },
 "nbformat": 4,
 "nbformat_minor": 2
}
