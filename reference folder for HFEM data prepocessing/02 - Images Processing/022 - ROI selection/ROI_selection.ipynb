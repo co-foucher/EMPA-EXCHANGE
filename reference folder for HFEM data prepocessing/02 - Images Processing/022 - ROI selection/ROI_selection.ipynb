{
 "cells": [
  {
   "cell_type": "code",
   "execution_count": 19,
   "metadata": {},
   "outputs": [
    {
     "name": "stdout",
     "output_type": "stream",
     "text": [
      "you loaded the CT visualizer window v20.11.24\n"
     ]
    }
   ],
   "source": [
    "import SimpleITK as sitk\n",
    "import tkinter as tk\n",
    "from tkinter import filedialog\n",
    "import os\n",
    "\n",
    "import sys\n",
    "# Add the directory to the sys.path\n",
    "sys.path.append('D:/COFO - HP/03 - Github/dvpt-at-EMPA/HappyBisons/image analysis')\n",
    "# Now you can import modules from that directory\n",
    "import tools.CT_modification_functions as CT_modification_functions\n",
    "import tools.CT_visualization_functions as CT_visualization_functions\n",
    "import tools.CT_visualization_window as CT_visualization_window\n",
    "%matplotlib qt\n",
    "\n",
    "CT_visualization_window.check_existence()"
   ]
  },
  {
   "cell_type": "code",
   "execution_count": null,
   "metadata": {},
   "outputs": [
    {
     "name": "stdout",
     "output_type": "stream",
     "text": [
      "d:\\COFO - HP\\01 PhD research\\202403 - Bern skull\\WP5 - bern-001\\02 - Images Processing\\022 - ROI selection\n",
      "d:\\COFO - HP\\01 PhD research\\202403 - Bern skull\\WP5 - bern-001\\02 - Images Processing\n",
      "d:\\COFO - HP\\01 PhD research\\202403 - Bern skull\\WP5 - bern-001\\02 - Images Processing\\021 - Saved as raw\\skull-set2.mhd\n",
      "d:\\COFO - HP\\01 PhD research\\202403 - Bern skull\\WP5 - bern-001\\02 - Images Processing\\022 - ROI selection\\ROI-set2.mhd\n"
     ]
    },
    {
     "name": "stderr",
     "output_type": "stream",
     "text": [
      "<>:7: SyntaxWarning: invalid escape sequence '\\s'\n",
      "<>:8: SyntaxWarning: invalid escape sequence '\\R'\n",
      "<>:7: SyntaxWarning: invalid escape sequence '\\s'\n",
      "<>:8: SyntaxWarning: invalid escape sequence '\\R'\n",
      "C:\\Users\\cofo\\AppData\\Local\\Temp\\ipykernel_16620\\2109480383.py:7: SyntaxWarning: invalid escape sequence '\\s'\n",
      "  input_file_path = parent_dir + '\\\\021 - Saved as raw\\skull-set2.mhd'\n",
      "C:\\Users\\cofo\\AppData\\Local\\Temp\\ipykernel_16620\\2109480383.py:8: SyntaxWarning: invalid escape sequence '\\R'\n",
      "  output_file_path = current_dir+\"\\ROI-set2.mhd\"\n"
     ]
    }
   ],
   "source": [
    "#path variables definition\n",
    "\n",
    "current_dir = os.getcwd()\n",
    "parent_dir = os.path.dirname(current_dir)\n",
    "\n",
    "print(current_dir)\n",
    "print(parent_dir)\n",
    "\n",
    "input_file_path = parent_dir + '\\\\021 - Saved as raw\\skull-set2.mhd'\n",
    "output_file_path = current_dir+\"\\ROI-set2.mhd\"\n",
    "output_phantom_file_path = current_dir+\"\\ROI-echelle-set2.mhd\"\n",
    "print(input_file_path)\n",
    "print(output_file_path)\n"
   ]
  },
  {
   "cell_type": "code",
   "execution_count": 21,
   "metadata": {},
   "outputs": [
    {
     "name": "stderr",
     "output_type": "stream",
     "text": [
      "2024-11-20 13:30:16,602 - CT_window_logger - INFO - starting window setup function\n",
      "2024-11-20 13:30:16,602 - CT_window_logger - WARNING - Your image uses uint16 values, values have been rescaled in the plot to fit in UINT8, but still extracted true on click.\n",
      "2024-11-20 13:30:36,678 - CT_window_logger - INFO - opening new histogram window\n",
      "2024-11-20 13:30:43,475 - CT_window_logger - INFO - opening new histogram window\n",
      "2024-11-20 13:30:45,912 - CT_window_logger - INFO - closing histogram window\n",
      "2024-11-20 13:30:54,315 - CT_window_logger - INFO - window setup function succesfull\n"
     ]
    },
    {
     "data": {
      "text/plain": [
       "array([], dtype=float64)"
      ]
     },
     "execution_count": 21,
     "metadata": {},
     "output_type": "execute_result"
    }
   ],
   "source": [
    "original_image = sitk.ReadImage(input_file_path)\n",
    "#CT_visualization_functions.browse_images(original_image)\n",
    "CT_visualization_window.open_window(original_image)\n"
   ]
  },
  {
   "cell_type": "code",
   "execution_count": 22,
   "metadata": {},
   "outputs": [
    {
     "name": "stdout",
     "output_type": "stream",
     "text": [
      "Cropping image\n",
      "Current size is 3422, 1024, 1024\n",
      "Image cropped\n",
      "New size is 3422, 813, 1024\n"
     ]
    }
   ],
   "source": [
    "temp = CT_modification_functions.crop_images(813,'up',original_image)\n",
    "\n",
    "#roi = imaging_functions.crop_images(703,'up',WL_image)\n",
    "\n",
    "CT_visualization_functions.browse_images(temp)\n"
   ]
  },
  {
   "cell_type": "code",
   "execution_count": 23,
   "metadata": {},
   "outputs": [
    {
     "name": "stdout",
     "output_type": "stream",
     "text": [
      "Cropping image\n",
      "Current size is 3422, 813, 1024\n",
      "Image cropped\n",
      "New size is 1875, 813, 1024\n"
     ]
    }
   ],
   "source": [
    "temp2 = CT_modification_functions.crop_images(1875,'front',temp)\n",
    "\n",
    "#roi = imaging_functions.crop_images(703,'up',WL_image)\n",
    "\n",
    "CT_visualization_functions.browse_images(temp2)"
   ]
  },
  {
   "cell_type": "code",
   "execution_count": 24,
   "metadata": {},
   "outputs": [
    {
     "name": "stdout",
     "output_type": "stream",
     "text": [
      "Cropping image\n",
      "Current size is 1875, 813, 1024\n",
      "Image cropped\n",
      "New size is 1875, 693, 1024\n"
     ]
    },
    {
     "name": "stderr",
     "output_type": "stream",
     "text": [
      "2024-11-20 13:31:00,596 - CT_window_logger - INFO - starting window setup function\n",
      "2024-11-20 13:31:00,596 - CT_window_logger - WARNING - Your image uses uint16 values, values have been rescaled in the plot to fit in UINT8, but still extracted true on click.\n",
      "2024-11-20 13:31:12,242 - CT_window_logger - INFO - window setup function succesfull\n"
     ]
    },
    {
     "data": {
      "text/plain": [
       "array([], dtype=float64)"
      ]
     },
     "execution_count": 24,
     "metadata": {},
     "output_type": "execute_result"
    }
   ],
   "source": [
    "result_image = CT_modification_functions.crop_images(120,'down',temp2)\n",
    "\n",
    "CT_visualization_window.open_window(result_image)"
   ]
  },
  {
   "cell_type": "code",
   "execution_count": 25,
   "metadata": {},
   "outputs": [],
   "source": [
    "#save the result image in the prompted direction\n",
    "Spacing = original_image.GetSpacing()\n",
    "Origin = original_image.GetOrigin()\n",
    "direction = original_image.GetDirection()\n",
    "result_image.SetSpacing(Spacing)\n",
    "result_image.SetOrigin(Origin)\n",
    "result_image.SetDirection(direction)\n",
    "sitk.WriteImage(result_image, output_file_path)\n",
    "\n"
   ]
  },
  {
   "cell_type": "code",
   "execution_count": null,
   "metadata": {},
   "outputs": [
    {
     "name": "stderr",
     "output_type": "stream",
     "text": [
      "<>:14: SyntaxWarning: invalid escape sequence '\\R'\n",
      "<>:14: SyntaxWarning: invalid escape sequence '\\R'\n",
      "C:\\Users\\cofo\\AppData\\Local\\Temp\\ipykernel_16620\\4046018147.py:14: SyntaxWarning: invalid escape sequence '\\R'\n",
      "  sitk.WriteImage(echelle, current_dir+\"\\ROI-echelle-set2.mhd\")\n"
     ]
    },
    {
     "name": "stdout",
     "output_type": "stream",
     "text": [
      "Cropping image\n",
      "Current size is 3422, 1024, 1024\n",
      "Image cropped\n",
      "New size is 3422, 224, 1024\n",
      "Cropping image\n",
      "Current size is 3422, 224, 1024\n",
      "Image cropped\n",
      "New size is 3422, 130, 1024\n"
     ]
    }
   ],
   "source": [
    "echelle = CT_modification_functions.crop_images(800,'down',original_image)\n",
    "echelle = CT_modification_functions.crop_images(130,'up',echelle)\n",
    "#roi = imaging_functions.crop_images(703,'up',WL_image)\n",
    "\n",
    "CT_visualization_functions.browse_images(echelle)\n",
    "\n",
    "#save the result image in the prompted direction\n",
    "Spacing = original_image.GetSpacing()\n",
    "Origin = original_image.GetOrigin()\n",
    "direction = original_image.GetDirection()\n",
    "echelle.SetSpacing(Spacing)\n",
    "echelle.SetOrigin(Origin)\n",
    "\n",
    "echelle.SetDirection(direction)\n",
    "sitk.WriteImage(echelle, output_phantom_file_path)"
   ]
  }
 ],
 "metadata": {
  "kernelspec": {
   "display_name": "medical_imaging_py312",
   "language": "python",
   "name": "python3"
  },
  "language_info": {
   "codemirror_mode": {
    "name": "ipython",
    "version": 3
   },
   "file_extension": ".py",
   "mimetype": "text/x-python",
   "name": "python",
   "nbconvert_exporter": "python",
   "pygments_lexer": "ipython3",
   "version": "3.12.7"
  }
 },
 "nbformat": 4,
 "nbformat_minor": 2
}
